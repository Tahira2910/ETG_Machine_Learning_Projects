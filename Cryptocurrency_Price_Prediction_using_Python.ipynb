{
  "nbformat": 4,
  "nbformat_minor": 0,
  "metadata": {
    "colab": {
      "provenance": [],
      "authorship_tag": "ABX9TyNbYU30fl9QvRT64lLetLQy",
      "include_colab_link": true
    },
    "kernelspec": {
      "name": "python3",
      "display_name": "Python 3"
    },
    "language_info": {
      "name": "python"
    }
  },
  "cells": [
    {
      "cell_type": "markdown",
      "metadata": {
        "id": "view-in-github",
        "colab_type": "text"
      },
      "source": [
        "<a href=\"https://colab.research.google.com/github/Tahira2910/ETG_Python_Projects/blob/main/Cryptocurrency_Price_Prediction_using_Python.ipynb\" target=\"_parent\"><img src=\"https://colab.research.google.com/assets/colab-badge.svg\" alt=\"Open In Colab\"/></a>"
      ]
    },
    {
      "cell_type": "markdown",
      "source": [
        "I’ll start the task of Cryptocurrency price prediction by importing the necessary Python libraries and the dataset we need. For this task, I will collect the latest Bitcoin prices data from Yahoo Finance, using the yfinance API. This will help you collect the latest data each time you run this code:"
      ],
      "metadata": {
        "id": "pZKMhAMgRzSb"
      }
    },
    {
      "cell_type": "code",
      "source": [
        "pip install autots"
      ],
      "metadata": {
        "id": "HqOWTy4oKt7K"
      },
      "execution_count": null,
      "outputs": []
    },
    {
      "cell_type": "code",
      "execution_count": null,
      "metadata": {
        "id": "cBM4uaBSOjTN"
      },
      "outputs": [],
      "source": [
        "import pandas as pd\n",
        "\n",
        "import yfinance as yf    # collecting the latest Bitcoin prices data from Yahoo Finance, using the yfinance API\n",
        "\n",
        "\n",
        "import datetime          # It allows you to create, manipulate, format, and perform calculations on dates and times\n",
        "\n",
        "\n",
        "# The date class represents a date (year, month, day) without time, while the timedelta class represents a duration or difference between two dates or times\n",
        "from datetime import date, timedelta \n",
        "\n",
        "# This line creates a variable named \"today\" and assigns it the value of \n",
        "# the current date. The date.today() function returns the current local date based on the system's clock. \n",
        "today = date.today()"
      ]
    },
    {
      "cell_type": "markdown",
      "source": [],
      "metadata": {
        "id": "hVUcXW2ORzJg"
      }
    },
    {
      "cell_type": "code",
      "source": [
        "d1 = today.strftime(\"%Y-%m-%d\")  # converts the current date (today) into a string format with the specified format \"%Y-%m-%d\"\n",
        "end_date = d1                    # assigns the value of the formatted date string (d1) to the variable end_date\n",
        "d2 = date.today() - timedelta(days=730)  #calculates a new date by subtracting 730 days (two years) from the current date (date.today())\n",
        "d2 = d2.strftime(\"%Y-%m-%d\")\n",
        "start_date = d2\n",
        "\n",
        "data = yf.download('BTC-USD',   #BTC-USD represents the stock symbol for Bitcoin,  'USD' indicates that the value of Bitcoin is being measured in U.S. dollars.\n",
        "                      start=start_date,  #specifies the start date and end date for retrieving the financial data\n",
        "                      end=end_date, \n",
        "                      progress=False)  #disable the progress bar display during the download.\n",
        "data[\"Date\"] = data.index\n",
        "data = data[[\"Date\", \"Open\", \"High\", \"Low\", \"Close\", \"Adj Close\", \"Volume\"]] #selects specific columnsfrom the DataFrame data and assigns the resulting DataFrame back to data\n",
        "data.reset_index(drop=True, inplace=True) #drop=True--> parameter is used to discard the previous index, inplace=True--> modifying the original DataFrame.\n",
        "print(data.head())\n"
      ],
      "metadata": {
        "id": "ruDtHEL2RqCa"
      },
      "execution_count": null,
      "outputs": []
    },
    {
      "cell_type": "code",
      "source": [
        "data.shape #shows number of rows and the number of columns in the DataFrame."
      ],
      "metadata": {
        "id": "ce0YxI3F54xS"
      },
      "execution_count": null,
      "outputs": []
    },
    {
      "cell_type": "code",
      "source": [
        "import plotly.graph_objects as go # used this module to create a candlestick chart \n",
        "# creates new figure object named figure  using the go.Figure() constructor\n",
        "# The data parameter is specified as a list containing a single element, which is the go.Candlestick() object\n",
        "figure = go.Figure(data=[go.Candlestick(x=data[\"Date\"],\n",
        "                                        open=data[\"Open\"],  # represents the opening prices of the candlestick chart\n",
        "                                        high=data[\"High\"], #  represents the high prices of the candlestick char\n",
        "                                        low=data[\"Low\"],    # represents the low prices of the candlestick chart\n",
        "                                        close=data[\"Close\"])])  #  represents the closing prices of the candlestick chart\n",
        "figure.update_layout(title = \"Bitcoin Price Analysis\", \n",
        "                     xaxis_rangeslider_visible=False) #  hides the range slider for the x-axis.\n",
        "figure.show()"
      ],
      "metadata": {
        "id": "067p-jwv59tR"
      },
      "execution_count": null,
      "outputs": []
    },
    {
      "cell_type": "code",
      "source": [
        "correlation = data.corr()\n",
        "print(correlation[\"Close\"].sort_values(ascending=False))"
      ],
      "metadata": {
        "id": "C3t7ltaH59vp"
      },
      "execution_count": null,
      "outputs": []
    },
    {
      "cell_type": "code",
      "source": [
        "from autots import AutoTS\n",
        "model = AutoTS(forecast_length=30, frequency='infer', ensemble='simple')\n",
        "model = model.fit(data, date_col='Date', value_col='Close', id_col=None)\n",
        "prediction = model.predict()\n",
        "forecast = prediction.forecast\n",
        "print(forecast)"
      ],
      "metadata": {
        "id": "5JpETr_JONqV"
      },
      "execution_count": null,
      "outputs": []
    },
    {
      "cell_type": "markdown",
      "source": [
        "The Close column in the dataset contains the values we need to predict. So, let’s have a look at the correlation of all the columns in the data concerning the Close column:"
      ],
      "metadata": {
        "id": "u_OfgHb2HA3M"
      }
    },
    {
      "cell_type": "code",
      "source": [
        "correlation = data.corr() # calculates the correlation matrix between all columns in the DataFrame data using the corr() method. \n",
        "\n",
        "# prints the correlation values for the \"Close\" column. It sorts these \n",
        "# correlation values in descending order using the sort_values() method with the ascending=False parameter. \n",
        "print(correlation[\"Close\"].sort_values(ascending=False)) "
      ],
      "metadata": {
        "id": "n2tl4kg8OLl3"
      },
      "execution_count": null,
      "outputs": []
    },
    {
      "cell_type": "code",
      "source": [
        "from autots import AutoTS # library used for automated time series forecasting.\n",
        "\n",
        "\n",
        "# creates an instance of the AutoTS class and assigns it to the variable model\n",
        "# we want to forecast 30 periods into the future.\n",
        "# implies that the frequency will be automatically inferred from the data.\n",
        "# use for combining multiple forecasting models. Here, the 'simple' ensemble method is chosen.\n",
        "model = AutoTS(forecast_length=30, frequency='infer', ensemble='simple')\n",
        "\n",
        "\n",
        "# Specifies the column name in the DataFrame that contains the dates or timestamps.\n",
        "# value_col=Close--> contains the values to be forecaste\n",
        "# id_col=None--> indicating that there are no individual time series to consider.\n",
        "model = model.fit(data, date_col='Date', value_col='Close', id_col=None)\n",
        "prediction = model.predict()\n",
        "forecast = prediction.forecast # extracts the forecasted values\n",
        "print(forecast)"
      ],
      "metadata": {
        "id": "gbRQz0xzOJG0"
      },
      "execution_count": null,
      "outputs": []
    },
    {
      "cell_type": "markdown",
      "source": [],
      "metadata": {
        "id": "UbEdxObJHAWd"
      }
    }
  ]
}