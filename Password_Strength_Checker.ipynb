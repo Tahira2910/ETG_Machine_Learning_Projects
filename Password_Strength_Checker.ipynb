{
  "cells": [
    {
      "cell_type": "markdown",
      "metadata": {
        "id": "view-in-github",
        "colab_type": "text"
      },
      "source": [
        "<a href=\"https://colab.research.google.com/github/Tahira2910/ETG_Python_Projects/blob/main/Password_Strength_Checker.ipynb\" target=\"_parent\"><img src=\"https://colab.research.google.com/assets/colab-badge.svg\" alt=\"Open In Colab\"/></a>"
      ]
    },
    {
      "cell_type": "code",
      "execution_count": null,
      "metadata": {
        "id": "lEUy7Ne5sVgu"
      },
      "outputs": [],
      "source": [
        "import pandas as pd\n",
        "import numpy as np\n",
        "from sklearn.feature_extraction.text import CountVectorizer\n",
        "from sklearn.feature_extraction.text import TfidfVectorizer\n",
        "from sklearn.model_selection import train_test_split\n",
        "from sklearn.ensemble import RandomForestClassifier"
      ]
    },
    {
      "cell_type": "code",
      "execution_count": null,
      "metadata": {
        "colab": {
          "base_uri": "https://localhost:8080/"
        },
        "id": "xuTZlk_QuXfr",
        "outputId": "69829275-2ae9-4410-bcb2-e0dac0e2798c"
      },
      "outputs": [
        {
          "output_type": "stream",
          "name": "stdout",
          "text": [
            "      password  strength\n",
            "0     kzde5577         1\n",
            "1     kino3434         1\n",
            "2    visi7k1yr         1\n",
            "3     megzy123         1\n",
            "4  lamborghin1         1\n"
          ]
        }
      ],
      "source": [
        "data = pd.read_csv(\"data2.csv\")\n",
        "print(data.head())"
      ]
    },
    {
      "cell_type": "markdown",
      "metadata": {
        "id": "lpK40Yc_urlA"
      },
      "source": [
        "The dataset has two columns; password and strength. In the strength column:\n",
        "\n",
        "0 means: the password’s strength is weak;\n",
        "1 means: the password’s strength is medium;\n",
        "2 means: the password’s strength is strong;\n",
        "Before moving forward, I will convert 0, 1, and 2 values in the strength column to weak, medium, and strong:"
      ]
    },
    {
      "cell_type": "code",
      "execution_count": null,
      "metadata": {
        "id": "dGHkPYqAuusK"
      },
      "outputs": [],
      "source": [
        "data = data.dropna()\n",
        "data[\"strength\"] = data[\"strength\"].map({0: \"Weak\", \n",
        "                                         1: \"Medium\",\n",
        "                                         2: \"Strong\"})\n",
        "print(data.sample(5))"
      ]
    },
    {
      "cell_type": "markdown",
      "metadata": {
        "id": "aSbIi4JXu3XU"
      },
      "source": [
        "**Password Strength Prediction Model**\n",
        "\n",
        "Now let’s move to train a machine learning model to predict the strength of the password. Before we start preparing the model, we need to tokenize the passwords as we need the model to learn from the combinations of digits, letters, and symbols to predict the password’s strength. So here’s how we can tokenize and split the data into training and test sets:"
      ]
    },
    {
      "cell_type": "code",
      "execution_count": null,
      "metadata": {
        "id": "uH1C-hrLu7CG"
      },
      "outputs": [],
      "source": [
        "def word(password):\n",
        "    character=[]\n",
        "    for i in password:\n",
        "        character.append(i)\n",
        "    return character\n",
        "  \n",
        "# Assigns the values of the \"password\" column from the data DataFrame to a NumPy array x.\n",
        "# Assigns the values of the \"strength\" column from the data DataFrame to a NumPy array y.\n",
        "x = np.array(data[\"password\"])\n",
        "y = np.array(data[\"strength\"])\n",
        "\n",
        "# Creates an instance of the TfidfVectorizer class from the sklearn.feature_extraction.text module and assigns it to the variable tdif\n",
        "\n",
        "tdif = TfidfVectorizer(tokenizer=word) # word function will be applied to each password to convert it into a list of characters.\n",
        "# The fit_transform() method combines two steps: fitting the vectorizer on the input data and transforming the \n",
        "# input data into a numerical representation based on the learned vocabulary.\n",
        "x = tdif.fit_transform(x)\n",
        "xtrain, xtest, ytrain, ytest = train_test_split(x, y, \n",
        "                                                test_size=0.05,  # test_size = 5%\n",
        "                                                random_state=42)"
      ]
    },
    {
      "cell_type": "markdown",
      "metadata": {
        "id": "MBSibi3HvAaV"
      },
      "source": [
        "Now here’s how to train a classification model to predict the strength of the password:"
      ]
    },
    {
      "cell_type": "code",
      "execution_count": null,
      "metadata": {
        "id": "DH0k6Sh-vA6K"
      },
      "outputs": [],
      "source": [
        "model = RandomForestClassifier()\n",
        "# trains the random forest classifier using the training data.\n",
        "model.fit(xtrain, ytrain)\n",
        "print(model.score(xtest, ytest))"
      ]
    },
    {
      "cell_type": "markdown",
      "metadata": {
        "id": "ff_XuCDXvFBZ"
      },
      "source": [
        "Now here’s how we can check the strength of a password using the trained model:"
      ]
    },
    {
      "cell_type": "code",
      "execution_count": null,
      "metadata": {
        "id": "d-nt5XP3vFg7"
      },
      "outputs": [],
      "source": [
        "import getpass\n",
        "user = getpass.getpass(\"Enter Password: \")\n",
        "data = tdif.transform([user]).toarray()\n",
        "output = model.predict(data)\n",
        "print(output)"
      ]
    },
    {
      "cell_type": "code",
      "execution_count": null,
      "metadata": {
        "id": "rQ4J0Qncu-IW"
      },
      "outputs": [],
      "source": []
    },
    {
      "cell_type": "code",
      "execution_count": null,
      "metadata": {
        "id": "mHylCFBcu5Ss"
      },
      "outputs": [],
      "source": []
    },
    {
      "cell_type": "code",
      "execution_count": null,
      "metadata": {
        "id": "cDljgDKluXhU"
      },
      "outputs": [],
      "source": []
    }
  ],
  "metadata": {
    "colab": {
      "provenance": [],
      "authorship_tag": "ABX9TyMTmAH/eqtWZLCDN1zh9kh6",
      "include_colab_link": true
    },
    "kernelspec": {
      "display_name": "Python 3",
      "name": "python3"
    },
    "language_info": {
      "name": "python"
    }
  },
  "nbformat": 4,
  "nbformat_minor": 0
}