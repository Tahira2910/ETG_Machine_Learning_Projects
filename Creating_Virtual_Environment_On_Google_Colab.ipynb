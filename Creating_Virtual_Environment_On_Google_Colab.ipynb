{
  "cells": [
    {
      "cell_type": "code",
      "execution_count": null,
      "metadata": {
        "colab": {
          "base_uri": "https://localhost:8080/"
        },
        "id": "Mwplpx0fH6nw",
        "outputId": "b71b3d36-1e42-46a4-bf13-e59a729853bc"
      },
      "outputs": [
        {
          "output_type": "stream",
          "name": "stdout",
          "text": [
            "/usr/local/bin/python\n",
            "Python 3.10.11\n"
          ]
        }
      ],
      "source": [
        "# Path and version numbers for python depend on operating system\n",
        "!which python\n",
        "!python --version"
      ]
    },
    {
      "cell_type": "code",
      "execution_count": null,
      "metadata": {
        "colab": {
          "base_uri": "https://localhost:8080/"
        },
        "id": "hG-bO_vlHpZH",
        "outputId": "efaa5256-7e33-4b51-ba07-d41302f9e144"
      },
      "outputs": [
        {
          "output_type": "stream",
          "name": "stdout",
          "text": [
            "env: PYTHONPATH=\n"
          ]
        }
      ],
      "source": [
        "# environment variable\n",
        "%env PYTHONPATH="
      ]
    },
    {
      "cell_type": "code",
      "execution_count": null,
      "metadata": {
        "colab": {
          "base_uri": "https://localhost:8080/"
        },
        "id": "YxgNp3QrMjOn",
        "outputId": "dff40d51-8378-4e96-9e48-6b630d4dcfc5"
      },
      "outputs": [
        {
          "output_type": "stream",
          "name": "stdout",
          "text": [
            "Looking in indexes: https://pypi.org/simple, https://us-python.pkg.dev/colab-wheels/public/simple/\n",
            "Collecting virtualenv\n",
            "  Downloading virtualenv-20.23.0-py3-none-any.whl (3.3 MB)\n",
            "\u001b[2K     \u001b[90m━━━━━━━━━━━━━━━━━━━━━━━━━━━━━━━━━━━━━━━━\u001b[0m \u001b[32m3.3/3.3 MB\u001b[0m \u001b[31m48.0 MB/s\u001b[0m eta \u001b[36m0:00:00\u001b[0m\n",
            "\u001b[?25hCollecting distlib<1,>=0.3.6 (from virtualenv)\n",
            "  Downloading distlib-0.3.6-py2.py3-none-any.whl (468 kB)\n",
            "\u001b[2K     \u001b[90m━━━━━━━━━━━━━━━━━━━━━━━━━━━━━━━━━━━━━━\u001b[0m \u001b[32m468.5/468.5 kB\u001b[0m \u001b[31m48.9 MB/s\u001b[0m eta \u001b[36m0:00:00\u001b[0m\n",
            "\u001b[?25hRequirement already satisfied: filelock<4,>=3.11 in /usr/local/lib/python3.10/dist-packages (from virtualenv) (3.12.0)\n",
            "Requirement already satisfied: platformdirs<4,>=3.2 in /usr/local/lib/python3.10/dist-packages (from virtualenv) (3.3.0)\n",
            "Installing collected packages: distlib, virtualenv\n",
            "Successfully installed distlib-0.3.6 virtualenv-20.23.0\n"
          ]
        }
      ],
      "source": [
        "# install virtual environment package\n",
        "!pip install virtualenv "
      ]
    },
    {
      "cell_type": "code",
      "execution_count": null,
      "metadata": {
        "colab": {
          "base_uri": "https://localhost:8080/"
        },
        "id": "W2p0zW_tNG37",
        "outputId": "f00afdcf-cd9d-40a6-afcd-74a2586a75cd"
      },
      "outputs": [
        {
          "output_type": "stream",
          "name": "stdout",
          "text": [
            "created virtual environment CPython3.10.11.final.0-64 in 971ms\n",
            "  creator CPython3Posix(dest=/content/myenv, clear=False, no_vcs_ignore=False, global=False)\n",
            "  seeder FromAppData(download=False, pip=bundle, setuptools=bundle, wheel=bundle, via=copy, app_data_dir=/root/.local/share/virtualenv)\n",
            "    added seed packages: pip==23.1.2, setuptools==67.7.2, wheel==0.40.0\n",
            "  activators BashActivator,CShellActivator,FishActivator,NushellActivator,PowerShellActivator,PythonActivator\n"
          ]
        }
      ],
      "source": [
        "# create virtual environment \n",
        "!virtualenv myenv"
      ]
    },
    {
      "cell_type": "markdown",
      "metadata": {
        "id": "9asFS6S7fVRN"
      },
      "source": [
        "## Download and Install Miniconda "
      ]
    },
    {
      "cell_type": "code",
      "execution_count": null,
      "metadata": {
        "colab": {
          "base_uri": "https://localhost:8080/"
        },
        "id": "YYbaZXtNDVbq",
        "outputId": "bda99a49-7185-455f-bf84-16f91e84653e"
      },
      "outputs": [
        {
          "output_type": "stream",
          "name": "stdout",
          "text": [
            "--2023-06-04 11:41:33--  https://repo.anaconda.com/miniconda/Miniconda3-latest-Linux-x86_64.sh\n",
            "Resolving repo.anaconda.com (repo.anaconda.com)... 104.16.130.3, 104.16.131.3, 2606:4700::6810:8303, ...\n",
            "Connecting to repo.anaconda.com (repo.anaconda.com)|104.16.130.3|:443... connected.\n",
            "HTTP request sent, awaiting response... 200 OK\n",
            "Length: 73134376 (70M) [application/x-sh]\n",
            "Saving to: ‘Miniconda3-latest-Linux-x86_64.sh’\n",
            "\n",
            "Miniconda3-latest-L 100%[===================>]  69.75M   138MB/s    in 0.5s    \n",
            "\n",
            "2023-06-04 11:41:34 (138 MB/s) - ‘Miniconda3-latest-Linux-x86_64.sh’ saved [73134376/73134376]\n",
            "\n"
          ]
        }
      ],
      "source": [
        "!wget https://repo.anaconda.com/miniconda/Miniconda3-latest-Linux-x86_64.sh"
      ]
    },
    {
      "cell_type": "code",
      "source": [
        "!chmod +x Miniconda3-latest-Linux-x86_64.sh"
      ],
      "metadata": {
        "id": "1_oLZCMCRqhU"
      },
      "execution_count": null,
      "outputs": []
    },
    {
      "cell_type": "code",
      "source": [
        "!./Miniconda3-latest-Linux-x86_64.sh -b -f -p /usr/local"
      ],
      "metadata": {
        "colab": {
          "base_uri": "https://localhost:8080/"
        },
        "id": "rg7g29NaRt2y",
        "outputId": "e600efed-80e8-4a2a-d165-c5ec060fa5f0"
      },
      "execution_count": null,
      "outputs": [
        {
          "output_type": "stream",
          "name": "stdout",
          "text": [
            "PREFIX=/usr/local\n",
            "Unpacking payload ...\n",
            "\n",
            "Installing base environment...\n",
            "\n",
            "\n",
            "Downloading and Extracting Packages\n",
            "\n",
            "\n",
            "Downloading and Extracting Packages\n",
            "\n",
            "Preparing transaction: - \b\b\\ \b\b| \b\b/ \b\bdone\n",
            "Executing transaction: \\ \b\b| \b\b/ \b\b- \b\b\\ \b\b| \b\b/ \b\b- \b\b\\ \b\b| \b\b/ \b\b- \b\b\\ \b\b| \b\b/ \b\b- \b\b\\ \b\b| \b\b/ \b\b- \b\b\\ \b\b| \b\b/ \b\b- \b\b\\ \b\b| \b\b/ \b\b- \b\b\\ \b\b| \b\b/ \b\b- \b\b\\ \b\b| \b\bdone\n",
            "installation finished.\n"
          ]
        }
      ]
    },
    {
      "cell_type": "code",
      "execution_count": null,
      "metadata": {
        "colab": {
          "base_uri": "https://localhost:8080/"
        },
        "id": "Mzb21TzyDcQL",
        "outputId": "7e059207-0dd7-4aa7-d206-44df921e2567"
      },
      "outputs": [
        {
          "output_type": "stream",
          "name": "stdout",
          "text": [
            "Collecting package metadata (current_repodata.json): ...working... done\n",
            "Solving environment: ...working... failed with initial frozen solve. Retrying with flexible solve.\n",
            "Solving environment: ...working... failed with repodata from current_repodata.json, will retry with next repodata source.\n",
            "Collecting package metadata (repodata.json): ...working... done\n",
            "Solving environment: ...working... done\n",
            "\n",
            "## Package Plan ##\n",
            "\n",
            "  environment location: /usr/local\n",
            "\n",
            "  added / updated specs:\n",
            "    - python=3.8\n",
            "    - ujson\n",
            "\n",
            "\n",
            "The following packages will be downloaded:\n",
            "\n",
            "    package                    |            build\n",
            "    ---------------------------|-----------------\n",
            "    boltons-23.0.0             |   py38h06a4308_0         426 KB\n",
            "    certifi-2023.5.7           |   py38h06a4308_0         152 KB\n",
            "    cffi-1.15.1                |   py38h5eee18b_3         241 KB\n",
            "    conda-23.5.0               |   py38h06a4308_0         1.0 MB\n",
            "    conda-content-trust-0.1.3  |   py38h06a4308_0          70 KB\n",
            "    conda-package-handling-1.9.0|   py38h5eee18b_1         946 KB\n",
            "    cryptography-39.0.1        |   py38h9ce1e76_0         1.4 MB\n",
            "    idna-3.4                   |   py38h06a4308_0          93 KB\n",
            "    packaging-23.0             |   py38h06a4308_0          68 KB\n",
            "    pip-23.0.1                 |   py38h06a4308_0         2.5 MB\n",
            "    pluggy-1.0.0               |   py38h06a4308_1          28 KB\n",
            "    pycosat-0.6.4              |   py38h5eee18b_0          84 KB\n",
            "    pyopenssl-23.0.0           |   py38h06a4308_0          96 KB\n",
            "    pysocks-1.7.1              |   py38h06a4308_0          31 KB\n",
            "    python-3.8.16              |       h7a1cb2a_3        23.7 MB\n",
            "    requests-2.29.0            |   py38h06a4308_0          96 KB\n",
            "    ruamel.yaml-0.17.21        |   py38h5eee18b_0         178 KB\n",
            "    ruamel.yaml.clib-0.2.6     |   py38h5eee18b_1         143 KB\n",
            "    setuptools-67.8.0          |   py38h06a4308_0         1.0 MB\n",
            "    toolz-0.12.0               |   py38h06a4308_0         105 KB\n",
            "    tqdm-4.65.0                |   py38hb070fc8_0         131 KB\n",
            "    ujson-5.4.0                |   py38h6a678d5_0          44 KB\n",
            "    urllib3-1.25.8             |           py38_0         170 KB\n",
            "    wheel-0.38.4               |   py38h06a4308_0          63 KB\n",
            "    ------------------------------------------------------------\n",
            "                                           Total:        32.7 MB\n",
            "\n",
            "The following NEW packages will be INSTALLED:\n",
            "\n",
            "  ujson              pkgs/main/linux-64::ujson-5.4.0-py38h6a678d5_0 \n",
            "\n",
            "The following packages will be REMOVED:\n",
            "\n",
            "  brotlipy-0.7.0-py310h7f8727e_1002\n",
            "  conda-package-streaming-0.7.0-py310h06a4308_0\n",
            "  zstandard-0.19.0-py310h5eee18b_0\n",
            "\n",
            "The following packages will be UPDATED:\n",
            "\n",
            "  certifi                         2022.12.7-py310h06a4308_0 --> 2023.5.7-py38h06a4308_0 \n",
            "  conda                              23.3.1-py310h06a4308_0 --> 23.5.0-py38h06a4308_0 \n",
            "  requests                           2.28.1-py310h06a4308_1 --> 2.29.0-py38h06a4308_0 \n",
            "  setuptools                         65.6.3-py310h06a4308_0 --> 67.8.0-py38h06a4308_0 \n",
            "\n",
            "The following packages will be DOWNGRADED:\n",
            "\n",
            "  boltons                            23.0.0-py310h06a4308_0 --> 23.0.0-py38h06a4308_0 \n",
            "  cffi                               1.15.1-py310h5eee18b_3 --> 1.15.1-py38h5eee18b_3 \n",
            "  conda-content-tru~                  0.1.3-py310h06a4308_0 --> 0.1.3-py38h06a4308_0 \n",
            "  conda-package-han~                  2.0.2-py310h06a4308_0 --> 1.9.0-py38h5eee18b_1 \n",
            "  cryptography                       39.0.1-py310h9ce1e76_0 --> 39.0.1-py38h9ce1e76_0 \n",
            "  idna                                  3.4-py310h06a4308_0 --> 3.4-py38h06a4308_0 \n",
            "  packaging                            23.0-py310h06a4308_0 --> 23.0-py38h06a4308_0 \n",
            "  pip                                23.0.1-py310h06a4308_0 --> 23.0.1-py38h06a4308_0 \n",
            "  pluggy                              1.0.0-py310h06a4308_1 --> 1.0.0-py38h06a4308_1 \n",
            "  pycosat                             0.6.4-py310h5eee18b_0 --> 0.6.4-py38h5eee18b_0 \n",
            "  pyopenssl                          23.0.0-py310h06a4308_0 --> 23.0.0-py38h06a4308_0 \n",
            "  pysocks                             1.7.1-py310h06a4308_0 --> 1.7.1-py38h06a4308_0 \n",
            "  python                                 3.10.10-h7a1cb2a_2 --> 3.8.16-h7a1cb2a_3 \n",
            "  ruamel.yaml                       0.17.21-py310h5eee18b_0 --> 0.17.21-py38h5eee18b_0 \n",
            "  ruamel.yaml.clib                    0.2.6-py310h5eee18b_1 --> 0.2.6-py38h5eee18b_1 \n",
            "  toolz                              0.12.0-py310h06a4308_0 --> 0.12.0-py38h06a4308_0 \n",
            "  tqdm                               4.65.0-py310h2f386ee_0 --> 4.65.0-py38hb070fc8_0 \n",
            "  urllib3                           1.26.15-py310h06a4308_0 --> 1.25.8-py38_0 \n",
            "  wheel                              0.38.4-py310h06a4308_0 --> 0.38.4-py38h06a4308_0 \n",
            "\n",
            "\n",
            "Preparing transaction: ...working... done\n",
            "Verifying transaction: ...working... done\n",
            "Executing transaction: ...working... done\n"
          ]
        }
      ],
      "source": [
        "!conda install -q -y --prefix /usr/local python=3.8 ujson"
      ]
    },
    {
      "cell_type": "code",
      "execution_count": null,
      "metadata": {
        "id": "lLYuWUPXDiyG"
      },
      "outputs": [],
      "source": [
        "import sys\n",
        "sys.path.append('/usr/local/lib/python3.8/site-packages/')"
      ]
    },
    {
      "cell_type": "code",
      "execution_count": null,
      "metadata": {
        "id": "mCKazcDADxFq"
      },
      "outputs": [],
      "source": [
        "# activate conda enviornment \n",
        "import os\n",
        "os.environ['CONDA_PREFIX'] = '/usr/local/envs/myenv'"
      ]
    },
    {
      "cell_type": "code",
      "execution_count": null,
      "metadata": {
        "colab": {
          "base_uri": "https://localhost:8080/"
        },
        "id": "mB8G_SVxDybE",
        "outputId": "e60c1dd9-3aa8-48d4-cf66-d0c499fb15aa"
      },
      "outputs": [
        {
          "output_type": "stream",
          "name": "stdout",
          "text": [
            "Python 3.8.16\n"
          ]
        }
      ],
      "source": [
        "# python version in new enviornment \n",
        "!python --version"
      ]
    },
    {
      "cell_type": "code",
      "execution_count": null,
      "metadata": {
        "id": "D0Ng9Jhr5MAT"
      },
      "outputs": [],
      "source": []
    }
  ],
  "metadata": {
    "colab": {
      "gpuType": "T4",
      "provenance": []
    },
    "kernelspec": {
      "display_name": "Python 3",
      "name": "python3"
    },
    "language_info": {
      "name": "python"
    }
  },
  "nbformat": 4,
  "nbformat_minor": 0
}