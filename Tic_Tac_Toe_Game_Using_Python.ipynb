{
  "cells": [
    {
      "cell_type": "markdown",
      "metadata": {
        "id": "TPJKebv5YNoJ"
      },
      "source": [
        "### Tic Tac Toe"
      ]
    },
    {
      "cell_type": "code",
      "execution_count": null,
      "metadata": {
        "colab": {
          "background_save": true,
          "base_uri": "https://localhost:8080/"
        },
        "id": "od1cTSi1I9li",
        "outputId": "185648f0-6ee8-42f8-cb34-18e2018d51e3"
      },
      "outputs": [
        {
          "name": "stdout",
          "output_type": "stream",
          "text": [
            "Welcome to Tic-Tac-Toe!\n",
            "You are playing as 'X'.\n",
            "\n",
            "-------------\n",
            "| - | - | - | \n",
            "-------------\n",
            "| - | - | - | \n",
            "-------------\n",
            "| - | - | - | \n",
            "-------------\n"
          ]
        }
      ],
      "source": [
        "import random\n",
        "\n",
        "def print_board(board):\n",
        "    print(\"-------------\")\n",
        "    for i in range(3):\n",
        "        print(\"|\", end=\" \")\n",
        "        for j in range(3):\n",
        "            print(board[i][j], end=\" | \")\n",
        "        print(\"\\n-------------\")\n",
        "\n",
        "def check_winner(board, player):\n",
        "    # Check rows\n",
        "    for i in range(3):\n",
        "        if board[i][0] == board[i][1] == board[i][2] == player:\n",
        "            return True\n",
        "\n",
        "    # Check columns\n",
        "    for i in range(3):\n",
        "        if board[0][i] == board[1][i] == board[2][i] == player:\n",
        "            return True\n",
        "\n",
        "    # Check diagonals\n",
        "    if board[0][0] == board[1][1] == board[2][2] == player:\n",
        "        return True\n",
        "\n",
        "    if board[0][2] == board[1][1] == board[2][0] == player:\n",
        "        return True\n",
        "\n",
        "    return False\n",
        "\n",
        "def make_user_move(board):\n",
        "    while True:\n",
        "        row = int(input(\"Enter the row (0-2): \"))\n",
        "        col = int(input(\"Enter the column (0-2): \"))\n",
        "        \n",
        "        if 0 <= row <= 2 and 0 <= col <= 2 and board[row][col] == \"-\":\n",
        "            board[row][col] = \"X\"\n",
        "            break\n",
        "        else:\n",
        "            print(\"Invalid move. Try again.\")\n",
        "\n",
        "def make_computer_move(board):\n",
        "    while True:\n",
        "        row = random.randint(0, 2)\n",
        "        col = random.randint(0, 2)\n",
        "        \n",
        "        if board[row][col] == \"-\":\n",
        "            board[row][col] = \"O\"\n",
        "            break\n",
        "\n",
        "def play_tic_tac_toe():\n",
        "    board = [[\"-\" for _ in range(3)] for _ in range(3)]\n",
        "    current_player = \"X\"  # User plays as \"X\"\n",
        "\n",
        "    print(\"Welcome to Tic-Tac-Toe!\")\n",
        "    print(\"You are playing as 'X'.\\n\")\n",
        "\n",
        "    while True:\n",
        "        print_board(board)\n",
        "\n",
        "        if current_player == \"X\":\n",
        "            make_user_move(board)\n",
        "        else:\n",
        "            print(\"Computer's turn...\")\n",
        "            make_computer_move(board)\n",
        "\n",
        "        if check_winner(board, current_player):\n",
        "            print_board(board)\n",
        "            if current_player == \"X\":\n",
        "                print(\"Congratulations! You won!\")\n",
        "            else:\n",
        "                print(\"The computer wins!\")\n",
        "            break\n",
        "\n",
        "        if all(all(cell != \"-\" for cell in row) for row in board):\n",
        "            print_board(board)\n",
        "            print(\"It's a tie!\")\n",
        "            break\n",
        "\n",
        "        current_player = \"O\" if current_player == \"X\" else \"X\"\n",
        "\n",
        "# Start the game\n",
        "play_tic_tac_toe()"
      ]
    },
    {
      "cell_type": "code",
      "execution_count": null,
      "metadata": {
        "id": "tXp7Jmw7jSnI"
      },
      "outputs": [],
      "source": []
    }
  ],
  "metadata": {
    "colab": {
      "provenance": []
    },
    "kernelspec": {
      "display_name": "Python 3",
      "name": "python3"
    },
    "language_info": {
      "name": "python"
    }
  },
  "nbformat": 4,
  "nbformat_minor": 0
}